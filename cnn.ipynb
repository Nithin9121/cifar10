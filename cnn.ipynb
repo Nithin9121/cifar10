{
 "cells": [
  {
   "cell_type": "code",
   "execution_count": 15,
   "metadata": {},
   "outputs": [],
   "source": [
    "import tensorflow as tf\n",
    "from PIL import Image\n",
    "from tensorflow.keras import layers\n"
   ]
  },
  {
   "cell_type": "code",
   "execution_count": 16,
   "metadata": {},
   "outputs": [],
   "source": [
    "img=Image.open(\"D:\\\\python codes\\\\ML\\\\data1\\\\cifar10\\\\train\\\\airplane\\\\29_airplane.png\")"
   ]
  },
  {
   "cell_type": "code",
   "execution_count": 17,
   "metadata": {},
   "outputs": [
    {
     "data": {
      "text/plain": [
       "(32, 32)"
      ]
     },
     "execution_count": 17,
     "metadata": {},
     "output_type": "execute_result"
    }
   ],
   "source": [
    "img.size"
   ]
  },
  {
   "cell_type": "code",
   "execution_count": 18,
   "metadata": {},
   "outputs": [
    {
     "name": "stdout",
     "output_type": "stream",
     "text": [
      "Found 50000 files belonging to 10 classes.\n"
     ]
    }
   ],
   "source": [
    "data= tf.keras.utils.image_dataset_from_directory(\n",
    "    \"D:\\\\python codes\\\\ML\\\\data1\\\\cifar10\\\\train\",\n",
    "    image_size=(32,32),\n",
    "    color_mode=\"rgb\",\n",
    "    batch_size=50000\n",
    ")"
   ]
  },
  {
   "cell_type": "code",
   "execution_count": 19,
   "metadata": {},
   "outputs": [],
   "source": [
    "cnn_model=tf.keras.Sequential([\n",
    "    layers.Conv2D(9,3,padding=\"same\"),\n",
    "    layers.MaxPool2D(),\n",
    "    layers.Conv2D(18,3,padding=\"same\"),\n",
    "    layers.MaxPool2D(),\n",
    "    layers.Flatten(),\n",
    "    layers.Dense(64,activation=\"relu\"),\n",
    "    layers.Dense(10),\n",
    "    layers.Softmax()\n",
    "])"
   ]
  },
  {
   "cell_type": "code",
   "execution_count": 20,
   "metadata": {},
   "outputs": [
    {
     "data": {
      "text/plain": [
       "<bound method Model.summary of <keras.engine.sequential.Sequential object at 0x00000274E97C4D30>>"
      ]
     },
     "execution_count": 20,
     "metadata": {},
     "output_type": "execute_result"
    }
   ],
   "source": [
    "cnn_model.build(input_shape=(1,32,32,3))\n",
    "cnn_model.summary"
   ]
  },
  {
   "cell_type": "code",
   "execution_count": 21,
   "metadata": {},
   "outputs": [
    {
     "name": "stdout",
     "output_type": "stream",
     "text": [
      "(500, 32, 32, 3) (500, 10)\n",
      "16/16 [==============================] - 1s 14ms/step\n",
      "[[0.0000000e+00 0.0000000e+00 0.0000000e+00 ... 1.0000000e+00\n",
      "  0.0000000e+00 0.0000000e+00]\n",
      " [0.0000000e+00 0.0000000e+00 0.0000000e+00 ... 1.0000000e+00\n",
      "  1.8527753e-21 0.0000000e+00]\n",
      " [6.4187660e-36 3.0721439e-35 0.0000000e+00 ... 2.8276045e-03\n",
      "  9.9717242e-01 3.5574693e-15]\n",
      " ...\n",
      " [0.0000000e+00 0.0000000e+00 0.0000000e+00 ... 1.0000000e+00\n",
      "  5.2434041e-15 0.0000000e+00]\n",
      " [0.0000000e+00 0.0000000e+00 0.0000000e+00 ... 1.0000000e+00\n",
      "  1.9249610e-18 0.0000000e+00]\n",
      " [0.0000000e+00 0.0000000e+00 0.0000000e+00 ... 4.8925595e-14\n",
      "  1.0000000e+00 0.0000000e+00]]\n"
     ]
    }
   ],
   "source": [
    "for images,labels in data:\n",
    "    labels=tf.one_hot(labels,10)\n",
    "    print(images.shape, labels.shape)\n",
    "    pred=cnn_model.predict(images)\n",
    "    print(pred)\n",
    "    break"
   ]
  },
  {
   "cell_type": "code",
   "execution_count": 22,
   "metadata": {},
   "outputs": [],
   "source": [
    "cnn_model.compile(loss=tf.keras.losses.categorical_crossentropy, optimizer=tf.keras.optimizers.Adam(0.001),metrics=['accuracy'])"
   ]
  },
  {
   "cell_type": "code",
   "execution_count": 23,
   "metadata": {},
   "outputs": [
    {
     "name": "stdout",
     "output_type": "stream",
     "text": [
      "Epoch 1/100\n",
      "10/10 [==============================] - 2s 27ms/step - loss: 2.3263 - accuracy: 0.1280\n",
      "Epoch 2/100\n",
      "10/10 [==============================] - 0s 28ms/step - loss: 2.2108 - accuracy: 0.1740\n",
      "Epoch 3/100\n",
      "10/10 [==============================] - 0s 28ms/step - loss: 2.0876 - accuracy: 0.2460\n",
      "Epoch 4/100\n",
      "10/10 [==============================] - 0s 27ms/step - loss: 1.9561 - accuracy: 0.2940\n",
      "Epoch 5/100\n",
      "10/10 [==============================] - 0s 27ms/step - loss: 1.8577 - accuracy: 0.3340\n",
      "Epoch 6/100\n",
      "10/10 [==============================] - 0s 27ms/step - loss: 1.7746 - accuracy: 0.3700\n",
      "Epoch 7/100\n",
      "10/10 [==============================] - 0s 29ms/step - loss: 1.6678 - accuracy: 0.4200\n",
      "Epoch 8/100\n",
      "10/10 [==============================] - 0s 29ms/step - loss: 1.6143 - accuracy: 0.4500\n",
      "Epoch 9/100\n",
      "10/10 [==============================] - 1s 54ms/step - loss: 1.5324 - accuracy: 0.4740\n",
      "Epoch 10/100\n",
      "10/10 [==============================] - 1s 52ms/step - loss: 1.4585 - accuracy: 0.4980\n",
      "Epoch 11/100\n",
      "10/10 [==============================] - 1s 62ms/step - loss: 1.3935 - accuracy: 0.5260\n",
      "Epoch 12/100\n",
      "10/10 [==============================] - 1s 51ms/step - loss: 1.3460 - accuracy: 0.5580\n",
      "Epoch 13/100\n",
      "10/10 [==============================] - 1s 57ms/step - loss: 1.2667 - accuracy: 0.5620\n",
      "Epoch 14/100\n",
      "10/10 [==============================] - 1s 58ms/step - loss: 1.2574 - accuracy: 0.5880\n",
      "Epoch 15/100\n",
      "10/10 [==============================] - 1s 54ms/step - loss: 1.1926 - accuracy: 0.6180\n",
      "Epoch 16/100\n",
      "10/10 [==============================] - 0s 38ms/step - loss: 1.1347 - accuracy: 0.6360\n",
      "Epoch 17/100\n",
      "10/10 [==============================] - 0s 33ms/step - loss: 1.0697 - accuracy: 0.6560\n",
      "Epoch 18/100\n",
      "10/10 [==============================] - 0s 33ms/step - loss: 1.0202 - accuracy: 0.6860\n",
      "Epoch 19/100\n",
      "10/10 [==============================] - 0s 34ms/step - loss: 0.9852 - accuracy: 0.7180\n",
      "Epoch 20/100\n",
      "10/10 [==============================] - 0s 33ms/step - loss: 0.9515 - accuracy: 0.6920\n",
      "Epoch 21/100\n",
      "10/10 [==============================] - 0s 32ms/step - loss: 0.8340 - accuracy: 0.7600\n",
      "Epoch 22/100\n",
      "10/10 [==============================] - 0s 33ms/step - loss: 0.7875 - accuracy: 0.7740\n",
      "Epoch 23/100\n",
      "10/10 [==============================] - 0s 32ms/step - loss: 0.7376 - accuracy: 0.8020\n",
      "Epoch 24/100\n",
      "10/10 [==============================] - 0s 32ms/step - loss: 0.7071 - accuracy: 0.7980\n",
      "Epoch 25/100\n",
      "10/10 [==============================] - 0s 33ms/step - loss: 0.6356 - accuracy: 0.8300\n",
      "Epoch 26/100\n",
      "10/10 [==============================] - 0s 33ms/step - loss: 0.5971 - accuracy: 0.8520\n",
      "Epoch 27/100\n",
      "10/10 [==============================] - 0s 32ms/step - loss: 0.5679 - accuracy: 0.8460\n",
      "Epoch 28/100\n",
      "10/10 [==============================] - 0s 32ms/step - loss: 0.5242 - accuracy: 0.8800\n",
      "Epoch 29/100\n",
      "10/10 [==============================] - 0s 32ms/step - loss: 0.4551 - accuracy: 0.8860\n",
      "Epoch 30/100\n",
      "10/10 [==============================] - 0s 32ms/step - loss: 0.4579 - accuracy: 0.8820\n",
      "Epoch 31/100\n",
      "10/10 [==============================] - 0s 33ms/step - loss: 0.4399 - accuracy: 0.8940\n",
      "Epoch 32/100\n",
      "10/10 [==============================] - 0s 32ms/step - loss: 0.3899 - accuracy: 0.9120\n",
      "Epoch 33/100\n",
      "10/10 [==============================] - 0s 32ms/step - loss: 0.3610 - accuracy: 0.9260\n",
      "Epoch 34/100\n",
      "10/10 [==============================] - 0s 33ms/step - loss: 0.3169 - accuracy: 0.9420\n",
      "Epoch 35/100\n",
      "10/10 [==============================] - 0s 32ms/step - loss: 0.2641 - accuracy: 0.9600\n",
      "Epoch 36/100\n",
      "10/10 [==============================] - 0s 36ms/step - loss: 0.2464 - accuracy: 0.9540\n",
      "Epoch 37/100\n",
      "10/10 [==============================] - 0s 33ms/step - loss: 0.2252 - accuracy: 0.9740\n",
      "Epoch 38/100\n",
      "10/10 [==============================] - 0s 45ms/step - loss: 0.2104 - accuracy: 0.9740\n",
      "Epoch 39/100\n",
      "10/10 [==============================] - 0s 33ms/step - loss: 0.1824 - accuracy: 0.9900\n",
      "Epoch 40/100\n",
      "10/10 [==============================] - 0s 32ms/step - loss: 0.1741 - accuracy: 0.9780\n",
      "Epoch 41/100\n",
      "10/10 [==============================] - 0s 33ms/step - loss: 0.1538 - accuracy: 0.9840\n",
      "Epoch 42/100\n",
      "10/10 [==============================] - 0s 33ms/step - loss: 0.1354 - accuracy: 0.9920\n",
      "Epoch 43/100\n",
      "10/10 [==============================] - 0s 33ms/step - loss: 0.1243 - accuracy: 0.9900\n",
      "Epoch 44/100\n",
      "10/10 [==============================] - 0s 33ms/step - loss: 0.1059 - accuracy: 0.9960\n",
      "Epoch 45/100\n",
      "10/10 [==============================] - 0s 32ms/step - loss: 0.0964 - accuracy: 0.9980\n",
      "Epoch 46/100\n",
      "10/10 [==============================] - 0s 32ms/step - loss: 0.0886 - accuracy: 0.9980\n",
      "Epoch 47/100\n",
      "10/10 [==============================] - 0s 32ms/step - loss: 0.0834 - accuracy: 0.9960\n",
      "Epoch 48/100\n",
      "10/10 [==============================] - 0s 33ms/step - loss: 0.0735 - accuracy: 0.9980\n",
      "Epoch 49/100\n",
      "10/10 [==============================] - 0s 32ms/step - loss: 0.0683 - accuracy: 1.0000\n",
      "Epoch 50/100\n",
      "10/10 [==============================] - 0s 32ms/step - loss: 0.0612 - accuracy: 1.0000\n",
      "Epoch 51/100\n",
      "10/10 [==============================] - 0s 31ms/step - loss: 0.0561 - accuracy: 0.9980\n",
      "Epoch 52/100\n",
      "10/10 [==============================] - 0s 37ms/step - loss: 0.0622 - accuracy: 1.0000\n",
      "Epoch 53/100\n",
      "10/10 [==============================] - 0s 32ms/step - loss: 0.0543 - accuracy: 0.9960\n",
      "Epoch 54/100\n",
      "10/10 [==============================] - 0s 33ms/step - loss: 0.0453 - accuracy: 1.0000\n",
      "Epoch 55/100\n",
      "10/10 [==============================] - 0s 33ms/step - loss: 0.0410 - accuracy: 1.0000\n",
      "Epoch 56/100\n",
      "10/10 [==============================] - 0s 32ms/step - loss: 0.0375 - accuracy: 1.0000\n",
      "Epoch 57/100\n",
      "10/10 [==============================] - 0s 31ms/step - loss: 0.0362 - accuracy: 1.0000\n",
      "Epoch 58/100\n",
      "10/10 [==============================] - 0s 32ms/step - loss: 0.0306 - accuracy: 1.0000\n",
      "Epoch 59/100\n",
      "10/10 [==============================] - 0s 32ms/step - loss: 0.0284 - accuracy: 1.0000\n",
      "Epoch 60/100\n",
      "10/10 [==============================] - 0s 33ms/step - loss: 0.0269 - accuracy: 1.0000\n",
      "Epoch 61/100\n",
      "10/10 [==============================] - 0s 33ms/step - loss: 0.0241 - accuracy: 1.0000\n",
      "Epoch 62/100\n",
      "10/10 [==============================] - 0s 32ms/step - loss: 0.0222 - accuracy: 1.0000\n",
      "Epoch 63/100\n",
      "10/10 [==============================] - 0s 32ms/step - loss: 0.0212 - accuracy: 1.0000\n",
      "Epoch 64/100\n",
      "10/10 [==============================] - 0s 32ms/step - loss: 0.0210 - accuracy: 1.0000\n",
      "Epoch 65/100\n",
      "10/10 [==============================] - 0s 31ms/step - loss: 0.0190 - accuracy: 1.0000\n",
      "Epoch 66/100\n",
      "10/10 [==============================] - 0s 36ms/step - loss: 0.0189 - accuracy: 1.0000\n",
      "Epoch 67/100\n",
      "10/10 [==============================] - 0s 34ms/step - loss: 0.0166 - accuracy: 1.0000\n",
      "Epoch 68/100\n",
      "10/10 [==============================] - 0s 33ms/step - loss: 0.0161 - accuracy: 1.0000\n",
      "Epoch 69/100\n",
      "10/10 [==============================] - 0s 33ms/step - loss: 0.0151 - accuracy: 1.0000\n",
      "Epoch 70/100\n",
      "10/10 [==============================] - 0s 32ms/step - loss: 0.0150 - accuracy: 1.0000\n",
      "Epoch 71/100\n",
      "10/10 [==============================] - 0s 33ms/step - loss: 0.0144 - accuracy: 1.0000\n",
      "Epoch 72/100\n",
      "10/10 [==============================] - 0s 33ms/step - loss: 0.0133 - accuracy: 1.0000\n",
      "Epoch 73/100\n",
      "10/10 [==============================] - 0s 33ms/step - loss: 0.0128 - accuracy: 1.0000\n",
      "Epoch 74/100\n",
      "10/10 [==============================] - 0s 34ms/step - loss: 0.0124 - accuracy: 1.0000\n",
      "Epoch 75/100\n",
      "10/10 [==============================] - 0s 40ms/step - loss: 0.0119 - accuracy: 1.0000\n",
      "Epoch 76/100\n",
      "10/10 [==============================] - 0s 34ms/step - loss: 0.0111 - accuracy: 1.0000\n",
      "Epoch 77/100\n",
      "10/10 [==============================] - 0s 33ms/step - loss: 0.0111 - accuracy: 1.0000\n",
      "Epoch 78/100\n",
      "10/10 [==============================] - 0s 34ms/step - loss: 0.0105 - accuracy: 1.0000\n",
      "Epoch 79/100\n",
      "10/10 [==============================] - 0s 32ms/step - loss: 0.0099 - accuracy: 1.0000\n",
      "Epoch 80/100\n",
      "10/10 [==============================] - 0s 32ms/step - loss: 0.0095 - accuracy: 1.0000\n",
      "Epoch 81/100\n",
      "10/10 [==============================] - 0s 33ms/step - loss: 0.0091 - accuracy: 1.0000\n",
      "Epoch 82/100\n",
      "10/10 [==============================] - 0s 36ms/step - loss: 0.0087 - accuracy: 1.0000\n",
      "Epoch 83/100\n",
      "10/10 [==============================] - 0s 32ms/step - loss: 0.0085 - accuracy: 1.0000\n",
      "Epoch 84/100\n",
      "10/10 [==============================] - 0s 33ms/step - loss: 0.0082 - accuracy: 1.0000\n",
      "Epoch 85/100\n",
      "10/10 [==============================] - 0s 32ms/step - loss: 0.0081 - accuracy: 1.0000\n",
      "Epoch 86/100\n",
      "10/10 [==============================] - 0s 31ms/step - loss: 0.0076 - accuracy: 1.0000\n",
      "Epoch 87/100\n",
      "10/10 [==============================] - 0s 33ms/step - loss: 0.0075 - accuracy: 1.0000\n",
      "Epoch 88/100\n",
      "10/10 [==============================] - 0s 34ms/step - loss: 0.0071 - accuracy: 1.0000\n",
      "Epoch 89/100\n",
      "10/10 [==============================] - 0s 32ms/step - loss: 0.0070 - accuracy: 1.0000\n",
      "Epoch 90/100\n",
      "10/10 [==============================] - 0s 32ms/step - loss: 0.0069 - accuracy: 1.0000\n",
      "Epoch 91/100\n",
      "10/10 [==============================] - 0s 32ms/step - loss: 0.0066 - accuracy: 1.0000\n",
      "Epoch 92/100\n",
      "10/10 [==============================] - 0s 41ms/step - loss: 0.0062 - accuracy: 1.0000\n",
      "Epoch 93/100\n",
      "10/10 [==============================] - 0s 35ms/step - loss: 0.0060 - accuracy: 1.0000\n",
      "Epoch 94/100\n",
      "10/10 [==============================] - 0s 33ms/step - loss: 0.0058 - accuracy: 1.0000\n",
      "Epoch 95/100\n",
      "10/10 [==============================] - 0s 33ms/step - loss: 0.0056 - accuracy: 1.0000\n",
      "Epoch 96/100\n",
      "10/10 [==============================] - 0s 32ms/step - loss: 0.0055 - accuracy: 1.0000\n",
      "Epoch 97/100\n",
      "10/10 [==============================] - 0s 33ms/step - loss: 0.0053 - accuracy: 1.0000\n",
      "Epoch 98/100\n",
      "10/10 [==============================] - 0s 32ms/step - loss: 0.0051 - accuracy: 1.0000\n",
      "Epoch 99/100\n",
      "10/10 [==============================] - 0s 34ms/step - loss: 0.0050 - accuracy: 1.0000\n",
      "Epoch 100/100\n",
      "10/10 [==============================] - 0s 31ms/step - loss: 0.0049 - accuracy: 1.0000\n",
      "(500, 32, 32, 3) (500, 10)\n"
     ]
    }
   ],
   "source": [
    "for features,labels in data:\n",
    "    features=tf.divide(features,255)\n",
    "    labels=tf.one_hot(labels,10)\n",
    "    record=cnn_model.fit(features,labels,batch_size=50,epochs=100)\n",
    "    print(features.shape, labels.shape)\n",
    "    break"
   ]
  }
 ],
 "metadata": {
  "kernelspec": {
   "display_name": "Python 3.10.6 64-bit",
   "language": "python",
   "name": "python3"
  },
  "language_info": {
   "codemirror_mode": {
    "name": "ipython",
    "version": 3
   },
   "file_extension": ".py",
   "mimetype": "text/x-python",
   "name": "python",
   "nbconvert_exporter": "python",
   "pygments_lexer": "ipython3",
   "version": "3.10.6"
  },
  "orig_nbformat": 4,
  "vscode": {
   "interpreter": {
    "hash": "611b6fa4c1e78b0db9b920c418339984a71f9699046d931016998444730996ad"
   }
  }
 },
 "nbformat": 4,
 "nbformat_minor": 2
}
